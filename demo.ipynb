{
 "cells": [
  {
   "cell_type": "code",
   "execution_count": 1,
   "metadata": {},
   "outputs": [],
   "source": [
    "# import dependacies\n",
    "\n",
    "import numpy\n",
    "import pandas as pd\n",
    "\n",
    "import matplotlib.pyplot as plt\n"
   ]
  },
  {
   "cell_type": "code",
   "execution_count": 2,
   "metadata": {},
   "outputs": [],
   "source": [
    "# define two functions for calculating some measurments\n",
    "# the calcuated measurements might not make sense, but are here only for demonstrational purposes\n",
    "\n",
    "def efficacy_over_price(efficacy, price):\n",
    "    return ( efficacy / price ) * 100\n",
    "\n",
    "def efficacy_and_power_over_price(efficacy, price, nom_lamp_power):\n",
    "    return ( (efficacy * nom_lamp_power  ) / (price) ) * 10"
   ]
  },
  {
   "cell_type": "code",
   "execution_count": 3,
   "metadata": {},
   "outputs": [
    {
     "ename": "NameError",
     "evalue": "name 'data' is not defined",
     "output_type": "error",
     "traceback": [
      "\u001b[0;31m---------------------------------------------------------------------------\u001b[0m",
      "\u001b[0;31mNameError\u001b[0m                                 Traceback (most recent call last)",
      "\u001b[0;32m<ipython-input-3-3743844cc2b9>\u001b[0m in \u001b[0;36m<module>\u001b[0;34m\u001b[0m\n\u001b[1;32m      6\u001b[0m \u001b[0;34m\u001b[0m\u001b[0m\n\u001b[1;32m      7\u001b[0m data_frame['efficacy_over_price'] = efficacy_over_price(\n\u001b[0;32m----> 8\u001b[0;31m     \u001b[0mdata\u001b[0m\u001b[0;34m[\u001b[0m\u001b[0;34m'avg_meas_efficacy'\u001b[0m\u001b[0;34m]\u001b[0m\u001b[0;34m,\u001b[0m\u001b[0;34m\u001b[0m\u001b[0m\n\u001b[0m\u001b[1;32m      9\u001b[0m     \u001b[0mdata\u001b[0m\u001b[0;34m[\u001b[0m\u001b[0;34m'Price'\u001b[0m\u001b[0;34m]\u001b[0m\u001b[0;34m\u001b[0m\u001b[0m\n\u001b[1;32m     10\u001b[0m )\n",
      "\u001b[0;31mNameError\u001b[0m: name 'data' is not defined"
     ]
    }
   ],
   "source": [
    "# Read the CSV file with Pandas Data Frame\n",
    "\n",
    "data_frame=pd.read_csv(\"random_lamp_data.csv\",parse_dates=['Brand'])\n",
    "\n",
    "# append two calculated columns to the Pandas Data Frame using, the defined functions from above\n",
    "\n",
    "data_frame['efficacy_over_price'] = efficacy_over_price(\n",
    "    data_frame['avg_meas_efficacy'], \n",
    "    data_frame['Price']\n",
    ")\n",
    "\n",
    "data_frame['efficacy_and_power_over_price'] = efficacy_and_power_over_price(\n",
    "    data_frame['avg_meas_efficacy'], \n",
    "    data_frame['Price'],\n",
    "    data_frame['nom_lamp_power']\n",
    ")"
   ]
  },
  {
   "cell_type": "code",
   "execution_count": null,
   "metadata": {},
   "outputs": [],
   "source": [
    "# just prining out the first 5 rows in the file\n",
    "data_frame.head(5)\n",
    "\n"
   ]
  },
  {
   "cell_type": "code",
   "execution_count": null,
   "metadata": {},
   "outputs": [],
   "source": [
    "# construct a partia data frame, that will contain only the rows for the OSRAM manufacturer\n",
    "partial_data_frame = data_frame[ data_frame['Brand'] == 'OSRAM' ]\n",
    "\n",
    "# print out statistics for efficay of OSRAM lamps\n",
    "# the .describe() function is executed on the partial_data_frame variable, that contains only OSRAM rows\n",
    "print ('OSRAM efficacy stats:')\n",
    "print( partial_data_frame['avg_meas_efficacy'].describe())\n",
    "print('')\n",
    "\n",
    "# do the same thing for PHILIPS\n",
    "partial_data_frame = data_frame[ data_frame['Brand'] == 'PHILIPS' ]\n",
    "print ('PHILIPS efficacy stats:')\n",
    "print (partial_data_frame['avg_meas_efficacy'].describe())\n",
    "\n"
   ]
  },
  {
   "cell_type": "code",
   "execution_count": null,
   "metadata": {},
   "outputs": [],
   "source": [
    "# construct a partial data frame that has only the Brand and Efficacy columns for all rows in the frame\n",
    "partial_data_frame = data_frame[['Brand','avg_meas_efficacy']]\n",
    "\n",
    "# Group by the values of the selected columns of the frame, based on the Brand column\n",
    "brands = partial_data_frame.groupby('Brand')\n",
    "\n",
    "# calculate the mean efficay by brand \n",
    "brand_totals = brands.mean()\n",
    "\n",
    "# plot it on a bar chart\n",
    "my_plot = brand_totals.plot(kind='bar')\n",
    "\n",
    "\n"
   ]
  },
  {
   "cell_type": "code",
   "execution_count": null,
   "metadata": {},
   "outputs": [],
   "source": [
    "# notice how the XGY bar is way above all other. \n",
    "# You will see in the CSV rows 175 to 179 are the outliers that make the XGY bar go up\n",
    "# I don't know the reason for this, but for demo purposes it is good to see that we can remove them\n",
    "\n",
    "# construct a partial data frame\n",
    "df = data_frame[['Brand','avg_meas_efficacy']]\n",
    "\n",
    "# clean the data frame from outliers that are 3 standard deviations away from the mean\n",
    "# answer copeid from here: https://stackoverflow.com/a/23200666/855475\n",
    "clened_data_frame = df[ numpy.abs(df.avg_meas_efficacy-df.avg_meas_efficacy.mean()) <= (3*df.avg_meas_efficacy.std())  ]\n",
    "\n",
    "# plot based on the clened_data_frame\n",
    "brands = clened_data_frame.groupby('Brand')\n",
    "brand_totals = brands.mean()\n",
    "my_plot = brand_totals.plot(kind='bar')\n"
   ]
  },
  {
   "cell_type": "code",
   "execution_count": null,
   "metadata": {},
   "outputs": [],
   "source": [
    "# select only desired columns in the partial data frame\n",
    "partial_data_frame = data_frame[\n",
    "    ['Brand','efficacy_over_price','efficacy_and_power_over_price', 'avg_meas_efficacy','Price']\n",
    "]\n",
    "\n",
    "# filter the data frame based on Brand. We want only the PHILIPS and RADIUM brands\n",
    "partial_data_frame = partial_data_frame[data['Brand'].isin(['PHILIPS','RADIUM'])]\n",
    "\n",
    "# get the average of all columns, grouped by brand\n",
    "brand_averages = partial_data_frame.groupby('Brand').mean()\n",
    "\n",
    "# plot the averages\n",
    "my_plot = brand_averages.plot(kind='bar')\n",
    "\n",
    "# print the averages as a table\n",
    "brand_averages.head()\n",
    "\n"
   ]
  }
 ],
 "metadata": {
  "kernelspec": {
   "display_name": "Python 3",
   "language": "python",
   "name": "python3"
  },
  "language_info": {
   "codemirror_mode": {
    "name": "ipython",
    "version": 3
   },
   "file_extension": ".py",
   "mimetype": "text/x-python",
   "name": "python",
   "nbconvert_exporter": "python",
   "pygments_lexer": "ipython3",
   "version": "3.6.5"
  }
 },
 "nbformat": 4,
 "nbformat_minor": 2
}
